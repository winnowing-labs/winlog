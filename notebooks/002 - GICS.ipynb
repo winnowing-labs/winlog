{
 "cells": [
  {
   "cell_type": "markdown",
   "metadata": {},
   "source": [
    "# GICS"
   ]
  },
  {
   "cell_type": "code",
   "execution_count": 1,
   "metadata": {},
   "outputs": [],
   "source": [
    "from wincapiq.company import get_company_industry_hirearchy"
   ]
  },
  {
   "cell_type": "code",
   "execution_count": 3,
   "metadata": {},
   "outputs": [],
   "source": [
    "df_raw_gics = get_company_industry_hirearchy(24937)"
   ]
  },
  {
   "cell_type": "code",
   "execution_count": 4,
   "metadata": {},
   "outputs": [
    {
     "data": {
      "text/html": [
       "<div><style>\n",
       ".dataframe > thead > tr,\n",
       ".dataframe > tbody > tr {\n",
       "  text-align: right;\n",
       "  white-space: pre-wrap;\n",
       "}\n",
       "</style>\n",
       "<small>shape: (49, 7)</small><table border=\"1\" class=\"dataframe\"><thead><tr><th>companyId</th><th>industryNodeName</th><th>industryNodeId</th><th>industryNodeLevel</th><th>parentIndustryNodeId</th><th>primaryIndustryNodeFlag</th><th>leafIndustryNodeFlag</th></tr><tr><td>i64</td><td>str</td><td>i32</td><td>i8</td><td>i32</td><td>i8</td><td>i8</td></tr></thead><tbody><tr><td>24937</td><td>&quot;Technology Hardware, Storage a…</td><td>9621091</td><td>4</td><td>8120000</td><td>1</td><td>0</td></tr><tr><td>24937</td><td>&quot;Transaction and Payment Proces…</td><td>9622291</td><td>4</td><td>7110000</td><td>0</td><td>0</td></tr><tr><td>24937</td><td>&quot;Payment Wallets&quot;</td><td>9621892</td><td>6</td><td>8021233</td><td>0</td><td>1</td></tr><tr><td>24937</td><td>&quot;Computer Components&quot;</td><td>8121200</td><td>5</td><td>9621091</td><td>1</td><td>1</td></tr><tr><td>24937</td><td>&quot;Communication Services&quot;</td><td>9000000</td><td>1</td><td>null</td><td>0</td><td>0</td></tr><tr><td>&hellip;</td><td>&hellip;</td><td>&hellip;</td><td>&hellip;</td><td>&hellip;</td><td>&hellip;</td><td>&hellip;</td></tr><tr><td>24937</td><td>&quot;Consumer Finance&quot;</td><td>7120000</td><td>3</td><td>7100000</td><td>0</td><td>0</td></tr><tr><td>24937</td><td>&quot;Computer and Electronics Retai…</td><td>4442000</td><td>4</td><td>4440000</td><td>0</td><td>0</td></tr><tr><td>24937</td><td>&quot;Financial Services&quot;</td><td>7110000</td><td>3</td><td>7100000</td><td>0</td><td>0</td></tr><tr><td>24937</td><td>&quot;Digital Music Recorders&quot;</td><td>4111230</td><td>6</td><td>4111200</td><td>0</td><td>0</td></tr><tr><td>24937</td><td>&quot;Consumer Electronics&quot;</td><td>4111000</td><td>4</td><td>4110000</td><td>0</td><td>0</td></tr></tbody></table></div>"
      ],
      "text/plain": [
       "shape: (49, 7)\n",
       "┌───────────┬──────────────┬──────────────┬──────────────┬─────────────┬─────────────┬─────────────┐\n",
       "│ companyId ┆ industryNode ┆ industryNode ┆ industryNode ┆ parentIndus ┆ primaryIndu ┆ leafIndustr │\n",
       "│ ---       ┆ Name         ┆ Id           ┆ Level        ┆ tryNodeId   ┆ stryNodeFla ┆ yNodeFlag   │\n",
       "│ i64       ┆ ---          ┆ ---          ┆ ---          ┆ ---         ┆ g           ┆ ---         │\n",
       "│           ┆ str          ┆ i32          ┆ i8           ┆ i32         ┆ ---         ┆ i8          │\n",
       "│           ┆              ┆              ┆              ┆             ┆ i8          ┆             │\n",
       "╞═══════════╪══════════════╪══════════════╪══════════════╪═════════════╪═════════════╪═════════════╡\n",
       "│ 24937     ┆ Technology   ┆ 9621091      ┆ 4            ┆ 8120000     ┆ 1           ┆ 0           │\n",
       "│           ┆ Hardware,    ┆              ┆              ┆             ┆             ┆             │\n",
       "│           ┆ Storage a…   ┆              ┆              ┆             ┆             ┆             │\n",
       "│ 24937     ┆ Transaction  ┆ 9622291      ┆ 4            ┆ 7110000     ┆ 0           ┆ 0           │\n",
       "│           ┆ and Payment  ┆              ┆              ┆             ┆             ┆             │\n",
       "│           ┆ Proces…      ┆              ┆              ┆             ┆             ┆             │\n",
       "│ 24937     ┆ Payment      ┆ 9621892      ┆ 6            ┆ 8021233     ┆ 0           ┆ 1           │\n",
       "│           ┆ Wallets      ┆              ┆              ┆             ┆             ┆             │\n",
       "│ 24937     ┆ Computer     ┆ 8121200      ┆ 5            ┆ 9621091     ┆ 1           ┆ 1           │\n",
       "│           ┆ Components   ┆              ┆              ┆             ┆             ┆             │\n",
       "│ 24937     ┆ Communicatio ┆ 9000000      ┆ 1            ┆ null        ┆ 0           ┆ 0           │\n",
       "│           ┆ n Services   ┆              ┆              ┆             ┆             ┆             │\n",
       "│ …         ┆ …            ┆ …            ┆ …            ┆ …           ┆ …           ┆ …           │\n",
       "│ 24937     ┆ Consumer     ┆ 7120000      ┆ 3            ┆ 7100000     ┆ 0           ┆ 0           │\n",
       "│           ┆ Finance      ┆              ┆              ┆             ┆             ┆             │\n",
       "│ 24937     ┆ Computer and ┆ 4442000      ┆ 4            ┆ 4440000     ┆ 0           ┆ 0           │\n",
       "│           ┆ Electronics  ┆              ┆              ┆             ┆             ┆             │\n",
       "│           ┆ Retai…       ┆              ┆              ┆             ┆             ┆             │\n",
       "│ 24937     ┆ Financial    ┆ 7110000      ┆ 3            ┆ 7100000     ┆ 0           ┆ 0           │\n",
       "│           ┆ Services     ┆              ┆              ┆             ┆             ┆             │\n",
       "│ 24937     ┆ Digital      ┆ 4111230      ┆ 6            ┆ 4111200     ┆ 0           ┆ 0           │\n",
       "│           ┆ Music        ┆              ┆              ┆             ┆             ┆             │\n",
       "│           ┆ Recorders    ┆              ┆              ┆             ┆             ┆             │\n",
       "│ 24937     ┆ Consumer     ┆ 4111000      ┆ 4            ┆ 4110000     ┆ 0           ┆ 0           │\n",
       "│           ┆ Electronics  ┆              ┆              ┆             ┆             ┆             │\n",
       "└───────────┴──────────────┴──────────────┴──────────────┴─────────────┴─────────────┴─────────────┘"
      ]
     },
     "execution_count": 4,
     "metadata": {},
     "output_type": "execute_result"
    }
   ],
   "source": [
    "df_raw_gics"
   ]
  },
  {
   "cell_type": "code",
   "execution_count": null,
   "metadata": {},
   "outputs": [],
   "source": []
  }
 ],
 "metadata": {
  "kernelspec": {
   "display_name": "wincapiq",
   "language": "python",
   "name": "python3"
  },
  "language_info": {
   "codemirror_mode": {
    "name": "ipython",
    "version": 3
   },
   "file_extension": ".py",
   "mimetype": "text/x-python",
   "name": "python",
   "nbconvert_exporter": "python",
   "pygments_lexer": "ipython3",
   "version": "3.11.11"
  }
 },
 "nbformat": 4,
 "nbformat_minor": 2
}
