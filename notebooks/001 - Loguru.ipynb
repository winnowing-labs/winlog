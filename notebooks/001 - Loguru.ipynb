{
 "cells": [
  {
   "cell_type": "markdown",
   "metadata": {},
   "source": [
    "# Loguru"
   ]
  },
  {
   "cell_type": "code",
   "execution_count": 1,
   "metadata": {},
   "outputs": [],
   "source": [
    "from loguru import logger "
   ]
  },
  {
   "cell_type": "code",
   "execution_count": 2,
   "metadata": {},
   "outputs": [
    {
     "name": "stderr",
     "output_type": "stream",
     "text": [
      "\u001b[32m2025-09-24 16:22:02.196\u001b[0m | \u001b[1mINFO    \u001b[0m | \u001b[36m__main__\u001b[0m:\u001b[36m<module>\u001b[0m:\u001b[36m1\u001b[0m - \u001b[1mHello\u001b[0m\n"
     ]
    }
   ],
   "source": [
    "logger.info(\"Hello\")"
   ]
  },
  {
   "cell_type": "code",
   "execution_count": 5,
   "metadata": {},
   "outputs": [
    {
     "name": "stderr",
     "output_type": "stream",
     "text": [
      "\u001b[32m2025-09-24 16:22:20.229\u001b[0m | \u001b[1mINFO    \u001b[0m | \u001b[36m__main__\u001b[0m:\u001b[36m<module>\u001b[0m:\u001b[36m1\u001b[0m - \u001b[1mGoddby\u001b[0m\n"
     ]
    }
   ],
   "source": [
    "logger.info(\"Goddby\")"
   ]
  },
  {
   "cell_type": "code",
   "execution_count": 4,
   "metadata": {},
   "outputs": [
    {
     "name": "stderr",
     "output_type": "stream",
     "text": [
      "\u001b[32m2025-09-24 16:22:14.570\u001b[0m | \u001b[33m\u001b[1mWARNING \u001b[0m | \u001b[36m__main__\u001b[0m:\u001b[36m<module>\u001b[0m:\u001b[36m1\u001b[0m - \u001b[33m\u001b[1mnot good\u001b[0m\n"
     ]
    }
   ],
   "source": [
    "logger.warning('not good')"
   ]
  },
  {
   "cell_type": "code",
   "execution_count": 6,
   "metadata": {},
   "outputs": [
    {
     "name": "stderr",
     "output_type": "stream",
     "text": [
      "\u001b[32m2025-09-24 16:22:28.628\u001b[0m | \u001b[31m\u001b[1mERROR   \u001b[0m | \u001b[36m__main__\u001b[0m:\u001b[36m<module>\u001b[0m:\u001b[36m1\u001b[0m - \u001b[31m\u001b[1m1/0\u001b[0m\n"
     ]
    }
   ],
   "source": [
    "logger.error('1/0')"
   ]
  },
  {
   "cell_type": "code",
   "execution_count": 9,
   "metadata": {},
   "outputs": [
    {
     "name": "stderr",
     "output_type": "stream",
     "text": [
      "\u001b[32m2025-09-24 16:23:05.238\u001b[0m | \u001b[31m\u001b[1mERROR   \u001b[0m | \u001b[36m__main__\u001b[0m:\u001b[36m<module>\u001b[0m:\u001b[36m4\u001b[0m - \u001b[31m\u001b[1mMath broke\u001b[0m\n",
      "\u001b[33m\u001b[1mTraceback (most recent call last):\u001b[0m\n",
      "\n",
      "  File \"<frozen runpy>\", line 198, in _run_module_as_main\n",
      "  File \"<frozen runpy>\", line 88, in _run_code\n",
      "  File \"/Users/mkleinbort/Winnowing/Libraries/winlog/.venv/lib/python3.11/site-packages/ipykernel_launcher.py\", line 18, in <module>\n",
      "    app.launch_new_instance()\n",
      "    │   └ <bound method Application.launch_instance of <class 'ipykernel.kernelapp.IPKernelApp'>>\n",
      "    └ <module 'ipykernel.kernelapp' from '/Users/mkleinbort/Winnowing/Libraries/winlog/.venv/lib/python3.11/site-packages/ipykernel...\n",
      "  File \"/Users/mkleinbort/Winnowing/Libraries/winlog/.venv/lib/python3.11/site-packages/traitlets/config/application.py\", line 1075, in launch_instance\n",
      "    app.start()\n",
      "    │   └ <function IPKernelApp.start at 0x106533f60>\n",
      "    └ <ipykernel.kernelapp.IPKernelApp object at 0x103047e10>\n",
      "  File \"/Users/mkleinbort/Winnowing/Libraries/winlog/.venv/lib/python3.11/site-packages/ipykernel/kernelapp.py\", line 739, in start\n",
      "    self.io_loop.start()\n",
      "    │    │       └ <function BaseAsyncIOLoop.start at 0x106550e00>\n",
      "    │    └ <tornado.platform.asyncio.AsyncIOMainLoop object at 0x106559d10>\n",
      "    └ <ipykernel.kernelapp.IPKernelApp object at 0x103047e10>\n",
      "  File \"/Users/mkleinbort/Winnowing/Libraries/winlog/.venv/lib/python3.11/site-packages/tornado/platform/asyncio.py\", line 211, in start\n",
      "    self.asyncio_loop.run_forever()\n",
      "    │    │            └ <function BaseEventLoop.run_forever at 0x1035f94e0>\n",
      "    │    └ <_UnixSelectorEventLoop running=True closed=False debug=False>\n",
      "    └ <tornado.platform.asyncio.AsyncIOMainLoop object at 0x106559d10>\n",
      "  File \"/Users/mkleinbort/.local/share/uv/python/cpython-3.11.11-macos-aarch64-none/lib/python3.11/asyncio/base_events.py\", line 608, in run_forever\n",
      "    self._run_once()\n",
      "    │    └ <function BaseEventLoop._run_once at 0x1035fb2e0>\n",
      "    └ <_UnixSelectorEventLoop running=True closed=False debug=False>\n",
      "  File \"/Users/mkleinbort/.local/share/uv/python/cpython-3.11.11-macos-aarch64-none/lib/python3.11/asyncio/base_events.py\", line 1936, in _run_once\n",
      "    handle._run()\n",
      "    │      └ <function Handle._run at 0x103583600>\n",
      "    └ <Handle Task.task_wakeup(<Future finis...7B)>, ...],))>)>\n",
      "  File \"/Users/mkleinbort/.local/share/uv/python/cpython-3.11.11-macos-aarch64-none/lib/python3.11/asyncio/events.py\", line 84, in _run\n",
      "    self._context.run(self._callback, *self._args)\n",
      "    │    │            │    │           │    └ <member '_args' of 'Handle' objects>\n",
      "    │    │            │    │           └ <Handle Task.task_wakeup(<Future finis...7B)>, ...],))>)>\n",
      "    │    │            │    └ <member '_callback' of 'Handle' objects>\n",
      "    │    │            └ <Handle Task.task_wakeup(<Future finis...7B)>, ...],))>)>\n",
      "    │    └ <member '_context' of 'Handle' objects>\n",
      "    └ <Handle Task.task_wakeup(<Future finis...7B)>, ...],))>)>\n",
      "  File \"/Users/mkleinbort/Winnowing/Libraries/winlog/.venv/lib/python3.11/site-packages/ipykernel/kernelbase.py\", line 519, in dispatch_queue\n",
      "    await self.process_one()\n",
      "          │    └ <function Kernel.process_one at 0x1064934c0>\n",
      "          └ <ipykernel.ipkernel.IPythonKernel object at 0x10654e6d0>\n",
      "  File \"/Users/mkleinbort/Winnowing/Libraries/winlog/.venv/lib/python3.11/site-packages/ipykernel/kernelbase.py\", line 508, in process_one\n",
      "    await dispatch(*args)\n",
      "          │         └ ([<zmq.Frame(b'1079483e-b79'...36B)>, <zmq.Frame(b'<IDS|MSG>')>, <zmq.Frame(b'5ff98fff5948'...64B)>, <zmq.Frame(b'{\"date\":\"20...\n",
      "          └ <bound method Kernel.dispatch_shell of <ipykernel.ipkernel.IPythonKernel object at 0x10654e6d0>>\n",
      "  File \"/Users/mkleinbort/Winnowing/Libraries/winlog/.venv/lib/python3.11/site-packages/ipykernel/kernelbase.py\", line 400, in dispatch_shell\n",
      "    await result\n",
      "          └ <coroutine object IPythonKernel.execute_request at 0x106d1e540>\n",
      "  File \"/Users/mkleinbort/Winnowing/Libraries/winlog/.venv/lib/python3.11/site-packages/ipykernel/ipkernel.py\", line 368, in execute_request\n",
      "    await super().execute_request(stream, ident, parent)\n",
      "                                  │       │      └ {'header': {'date': datetime.datetime(2025, 9, 24, 15, 23, 5, 235000, tzinfo=tzutc()), 'msg_id': 'ff8e400b-5fe3-437d-933e-075...\n",
      "                                  │       └ [b'1079483e-b790-420b-a48d-58561397e517']\n",
      "                                  └ <zmq.eventloop.zmqstream.ZMQStream object at 0x106559150>\n",
      "  File \"/Users/mkleinbort/Winnowing/Libraries/winlog/.venv/lib/python3.11/site-packages/ipykernel/kernelbase.py\", line 767, in execute_request\n",
      "    reply_content = await reply_content\n",
      "                          └ <coroutine object IPythonKernel.do_execute at 0x106ed5490>\n",
      "  File \"/Users/mkleinbort/Winnowing/Libraries/winlog/.venv/lib/python3.11/site-packages/ipykernel/ipkernel.py\", line 455, in do_execute\n",
      "    res = shell.run_cell(\n",
      "          │     └ <function ZMQInteractiveShell.run_cell at 0x106517600>\n",
      "          └ <ipykernel.zmqshell.ZMQInteractiveShell object at 0x106f09e90>\n",
      "  File \"/Users/mkleinbort/Winnowing/Libraries/winlog/.venv/lib/python3.11/site-packages/ipykernel/zmqshell.py\", line 577, in run_cell\n",
      "    return super().run_cell(*args, **kwargs)\n",
      "                             │       └ {'store_history': True, 'silent': False, 'cell_id': 'vscode-notebook-cell:/Users/mkleinbort/Winnowing/Libraries/winlog/notebo...\n",
      "                             └ (\"try: \\n    1/0\\nexcept ZeroDivisionError:\\n    logger.exception('Math broke')\",)\n",
      "  File \"/Users/mkleinbort/Winnowing/Libraries/winlog/.venv/lib/python3.11/site-packages/IPython/core/interactiveshell.py\", line 3116, in run_cell\n",
      "    result = self._run_cell(\n",
      "             │    └ <function InteractiveShell._run_cell at 0x10574a520>\n",
      "             └ <ipykernel.zmqshell.ZMQInteractiveShell object at 0x106f09e90>\n",
      "  File \"/Users/mkleinbort/Winnowing/Libraries/winlog/.venv/lib/python3.11/site-packages/IPython/core/interactiveshell.py\", line 3171, in _run_cell\n",
      "    result = runner(coro)\n",
      "             │      └ <coroutine object InteractiveShell.run_cell_async at 0x107bd18a0>\n",
      "             └ <function _pseudo_sync_runner at 0x105755580>\n",
      "  File \"/Users/mkleinbort/Winnowing/Libraries/winlog/.venv/lib/python3.11/site-packages/IPython/core/async_helpers.py\", line 128, in _pseudo_sync_runner\n",
      "    coro.send(None)\n",
      "    │    └ <method 'send' of 'coroutine' objects>\n",
      "    └ <coroutine object InteractiveShell.run_cell_async at 0x107bd18a0>\n",
      "  File \"/Users/mkleinbort/Winnowing/Libraries/winlog/.venv/lib/python3.11/site-packages/IPython/core/interactiveshell.py\", line 3394, in run_cell_async\n",
      "    has_raised = await self.run_ast_nodes(code_ast.body, cell_name,\n",
      "                       │    │             │        │     └ '/var/folders/9q/j1h4b5vd2d34gj_nz_wqs9vh0000gn/T/ipykernel_47161/1849363.py'\n",
      "                       │    │             │        └ [<ast.Try object at 0x106215420>]\n",
      "                       │    │             └ <ast.Module object at 0x106214220>\n",
      "                       │    └ <function InteractiveShell.run_ast_nodes at 0x10574a8e0>\n",
      "                       └ <ipykernel.zmqshell.ZMQInteractiveShell object at 0x106f09e90>\n",
      "  File \"/Users/mkleinbort/Winnowing/Libraries/winlog/.venv/lib/python3.11/site-packages/IPython/core/interactiveshell.py\", line 3639, in run_ast_nodes\n",
      "    if await self.run_code(code, result, async_=asy):\n",
      "             │    │        │     │              └ False\n",
      "             │    │        │     └ <ExecutionResult object at 106e48dd0, execution_count=9 error_before_exec=None error_in_exec=None info=<ExecutionInfo object ...\n",
      "             │    │        └ <code object <module> at 0x106d17bb0, file \"/var/folders/9q/j1h4b5vd2d34gj_nz_wqs9vh0000gn/T/ipykernel_47161/1849363.py\", lin...\n",
      "             │    └ <function InteractiveShell.run_code at 0x10574a980>\n",
      "             └ <ipykernel.zmqshell.ZMQInteractiveShell object at 0x106f09e90>\n",
      "  File \"/Users/mkleinbort/Winnowing/Libraries/winlog/.venv/lib/python3.11/site-packages/IPython/core/interactiveshell.py\", line 3699, in run_code\n",
      "    exec(code_obj, self.user_global_ns, self.user_ns)\n",
      "         │         │    │               │    └ <property object at 0x10574c090>\n",
      "         │         │    │               └ <ipykernel.zmqshell.ZMQInteractiveShell object at 0x106f09e90>\n",
      "         │         │    └ <property object at 0x10574c130>\n",
      "         │         └ <ipykernel.zmqshell.ZMQInteractiveShell object at 0x106f09e90>\n",
      "         └ <code object <module> at 0x106d17bb0, file \"/var/folders/9q/j1h4b5vd2d34gj_nz_wqs9vh0000gn/T/ipykernel_47161/1849363.py\", lin...\n",
      "\n",
      "> File \"\u001b[32m/var/folders/9q/j1h4b5vd2d34gj_nz_wqs9vh0000gn/T/ipykernel_47161/\u001b[0m\u001b[32m\u001b[1m1849363.py\u001b[0m\", line \u001b[33m2\u001b[0m, in \u001b[35m<module>\u001b[0m\n",
      "    \u001b[34m\u001b[1m1\u001b[0m\u001b[35m\u001b[1m/\u001b[0m\u001b[34m\u001b[1m0\u001b[0m\n",
      "\n",
      "\u001b[31m\u001b[1mZeroDivisionError\u001b[0m:\u001b[1m division by zero\u001b[0m\n"
     ]
    }
   ],
   "source": [
    "try: \n",
    "    1/0\n",
    "except ZeroDivisionError:\n",
    "    logger.exception('Math broke')"
   ]
  },
  {
   "cell_type": "code",
   "execution_count": null,
   "metadata": {},
   "outputs": [
    {
     "ename": "AttributeError",
     "evalue": "module 'winlog' has no attribute 'warn'",
     "output_type": "error",
     "traceback": [
      "\u001b[31m---------------------------------------------------------------------------\u001b[39m",
      "\u001b[31mAttributeError\u001b[39m                            Traceback (most recent call last)",
      "\u001b[36mCell\u001b[39m\u001b[36m \u001b[39m\u001b[32mIn[1]\u001b[39m\u001b[32m, line 3\u001b[39m\n\u001b[32m      1\u001b[39m \u001b[38;5;28;01mimport\u001b[39;00m\u001b[38;5;250m \u001b[39m\u001b[34;01mwinlog\u001b[39;00m\n\u001b[32m----> \u001b[39m\u001b[32m3\u001b[39m \u001b[43mwinlog\u001b[49m\u001b[43m.\u001b[49m\u001b[43mwarn\u001b[49m\n",
      "\u001b[31mAttributeError\u001b[39m: module 'winlog' has no attribute 'warn'"
     ]
    }
   ],
   "source": [
    "import winlog\n",
    "\n",
    "winlog.mark_for_review()"
   ]
  },
  {
   "cell_type": "code",
   "execution_count": null,
   "metadata": {},
   "outputs": [],
   "source": []
  }
 ],
 "metadata": {
  "kernelspec": {
   "display_name": "winlog",
   "language": "python",
   "name": "python3"
  },
  "language_info": {
   "codemirror_mode": {
    "name": "ipython",
    "version": 3
   },
   "file_extension": ".py",
   "mimetype": "text/x-python",
   "name": "python",
   "nbconvert_exporter": "python",
   "pygments_lexer": "ipython3",
   "version": "3.11.11"
  }
 },
 "nbformat": 4,
 "nbformat_minor": 2
}
